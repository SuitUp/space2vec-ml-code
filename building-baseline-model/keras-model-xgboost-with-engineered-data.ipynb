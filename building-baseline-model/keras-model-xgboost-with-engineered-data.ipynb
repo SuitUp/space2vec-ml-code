{
 "cells": [
  {
   "cell_type": "code",
   "execution_count": 1,
   "metadata": {},
   "outputs": [
    {
     "name": "stderr",
     "output_type": "stream",
     "text": [
      "Using Theano backend.\n",
      "/home/ubuntu/anaconda3/envs/tensorflow_p36/lib/python3.6/site-packages/sklearn/cross_validation.py:41: DeprecationWarning: This module was deprecated in version 0.18 in favor of the model_selection module into which all the refactored classes and functions are moved. Also note that the interface of the new CV iterators are different from that of this module. This module will be removed in 0.20.\n",
      "  \"This module will be removed in 0.20.\", DeprecationWarning)\n"
     ]
    }
   ],
   "source": [
    "from keras.layers import Input, Dense, TimeDistributed, LSTM, Dropout, Activation\n",
    "from keras.layers import Convolution2D, MaxPooling2D, Flatten\n",
    "from sklearn.model_selection import StratifiedShuffleSplit\n",
    "from keras.layers.normalization import BatchNormalization\n",
    "from sklearn.model_selection import train_test_split\n",
    "from keras.layers.advanced_activations import ELU\n",
    "from keras.callbacks import ModelCheckpoint\n",
    "from keras.models import Sequential, Model\n",
    "from keras.callbacks import Callback\n",
    "from keras.optimizers import Adam\n",
    "from scipy.ndimage import imread\n",
    "from keras.utils import np_utils\n",
    "from space_utils import metrics\n",
    "from time import process_time\n",
    "from astropy.io import fits\n",
    "from os.path import isfile\n",
    "from keras import backend\n",
    "\n",
    "import matplotlib.pyplot as plt\n",
    "import xgboost as xgb\n",
    "import pandas as pd\n",
    "import numpy as np\n",
    "\n",
    "import pickle\n",
    "import random\n",
    "import json\n",
    "import sys\n",
    "import os\n",
    "\n",
    "pd.set_option(\"max_columns\", 999)\n",
    "\n",
    "np.random.seed(1)\n",
    "\n",
    "%matplotlib inline"
   ]
  },
  {
   "cell_type": "code",
   "execution_count": 2,
   "metadata": {
    "collapsed": true
   },
   "outputs": [],
   "source": [
    "# Load engineered data from pickle\n",
    "data = pickle.load(open('/home/ubuntu/transients-data-processing/data/engineered-data.pkl', 'rb'))"
   ]
  },
  {
   "cell_type": "code",
   "execution_count": 3,
   "metadata": {
    "collapsed": true
   },
   "outputs": [],
   "source": [
    "targets = [\n",
    "    \"OBJECT_TYPE\",\n",
    "]\n",
    "\n",
    "ids = [\n",
    "    \"ID\",\n",
    "]\n",
    "\n",
    "continuous = [\n",
    "    \"AMP\",\n",
    "    \"A_IMAGE\",\n",
    "    \"A_REF\",\n",
    "    \"B_IMAGE\",\n",
    "    \"B_REF\",\n",
    "    \"COLMEDS\",\n",
    "    \"DIFFSUMRN\",\n",
    "    \"ELLIPTICITY\",\n",
    "    \"FLUX_RATIO\",\n",
    "    \"GAUSS\",\n",
    "    \"GFLUX\",\n",
    "    \"L1\",\n",
    "    \"LACOSMIC\",\n",
    "    \"MAG\",\n",
    "    \"MAGDIFF\",\n",
    "    \"MAG_FROM_LIMIT\",\n",
    "    \"MAG_REF\",\n",
    "    \"MAG_REF_ERR\",\n",
    "    \"MASKFRAC\",\n",
    "    \"MIN_DISTANCE_TO_EDGE_IN_NEW\",\n",
    "    \"NN_DIST_RENORM\",\n",
    "    \"SCALE\",\n",
    "    \"SNR\",\n",
    "    \"SPREADERR_MODEL\",\n",
    "    \"SPREAD_MODEL\",\n",
    "]\n",
    "\n",
    "categorical = [\n",
    "    \"BAND\",\n",
    "    \"CCDID\",\n",
    "    \"FLAGS\",\n",
    "]\n",
    "\n",
    "ordinal = [\n",
    "    \"N2SIG3\",\n",
    "    \"N2SIG3SHIFT\",\n",
    "    \"N2SIG5\",\n",
    "    \"N2SIG5SHIFT\",\n",
    "    \"N3SIG3\",\n",
    "    \"N3SIG3SHIFT\",\n",
    "    \"N3SIG5\",\n",
    "    \"N3SIG5SHIFT\",\n",
    "    \"NUMNEGRN\",\n",
    "]\n",
    "\n",
    "booleans = [\n",
    "    \"MAGLIM\",\n",
    "]\n",
    "\n",
    "# continuous = [c for c in columns if c not in (special + categorical + ordinal + booleans)]"
   ]
  },
  {
   "cell_type": "code",
   "execution_count": 4,
   "metadata": {
    "collapsed": true
   },
   "outputs": [],
   "source": [
    "# One-hot encode categorical\n",
    "data = pd.get_dummies(\n",
    "    data, \n",
    "    prefix = categorical, \n",
    "    prefix_sep = '_',\n",
    "    dummy_na = True, \n",
    "    columns = categorical, \n",
    "    sparse = False, \n",
    "    drop_first = False\n",
    ")"
   ]
  },
  {
   "cell_type": "code",
   "execution_count": 5,
   "metadata": {
    "collapsed": true
   },
   "outputs": [],
   "source": [
    "target = data[targets]\n",
    "inputs = data.drop(columns=ids+targets)"
   ]
  },
  {
   "cell_type": "code",
   "execution_count": 6,
   "metadata": {
    "collapsed": true
   },
   "outputs": [],
   "source": [
    "# Shuffle and split the data\n",
    "X_train, X_test, y_train, y_test = train_test_split(inputs, target, test_size=0.2, random_state=42, stratify=target.as_matrix())"
   ]
  },
  {
   "cell_type": "code",
   "execution_count": 7,
   "metadata": {
    "collapsed": true
   },
   "outputs": [],
   "source": [
    "train_x, train_y, valid_x, valid_y = X_train.as_matrix(), y_train.as_matrix(), X_test.as_matrix(), y_test.as_matrix()\n",
    "\n",
    "# save dmatrices\n",
    "xgtrain = xgb.DMatrix(train_x, label=train_y, feature_names=X_train.columns)\n",
    "xgvalid = xgb.DMatrix(valid_x, label=valid_y, feature_names=X_test.columns)"
   ]
  },
  {
   "cell_type": "code",
   "execution_count": 31,
   "metadata": {},
   "outputs": [
    {
     "name": "stderr",
     "output_type": "stream",
     "text": [
      "/home/ubuntu/anaconda3/envs/tensorflow_p36/lib/python3.6/site-packages/sklearn/preprocessing/label.py:95: DataConversionWarning: A column-vector y was passed when a 1d array was expected. Please change the shape of y to (n_samples, ), for example using ravel().\n",
      "  y = column_or_1d(y, warn=True)\n",
      "/home/ubuntu/anaconda3/envs/tensorflow_p36/lib/python3.6/site-packages/sklearn/preprocessing/label.py:128: DataConversionWarning: A column-vector y was passed when a 1d array was expected. Please change the shape of y to (n_samples, ), for example using ravel().\n",
      "  y = column_or_1d(y, warn=True)\n"
     ]
    },
    {
     "name": "stdout",
     "output_type": "stream",
     "text": [
      "[0]\tvalidation_0-error:0.068671\tvalidation_0-auc:0.970949\tvalidation_1-error:0.068896\tvalidation_1-auc:0.971142\n",
      "[1]\tvalidation_0-error:0.062219\tvalidation_0-auc:0.980348\tvalidation_1-error:0.062327\tvalidation_1-auc:0.980248\n",
      "[2]\tvalidation_0-error:0.058633\tvalidation_0-auc:0.981885\tvalidation_1-error:0.058918\tvalidation_1-auc:0.981718\n",
      "[3]\tvalidation_0-error:0.05676\tvalidation_0-auc:0.983614\tvalidation_1-error:0.057305\tvalidation_1-auc:0.983367\n",
      "[4]\tvalidation_0-error:0.054767\tvalidation_0-auc:0.984728\tvalidation_1-error:0.055074\tvalidation_1-auc:0.98452\n",
      "[5]\tvalidation_0-error:0.053922\tvalidation_0-auc:0.985305\tvalidation_1-error:0.054502\tvalidation_1-auc:0.985167\n",
      "[6]\tvalidation_0-error:0.053553\tvalidation_0-auc:0.985502\tvalidation_1-error:0.054107\tvalidation_1-auc:0.985338\n",
      "[7]\tvalidation_0-error:0.052818\tvalidation_0-auc:0.985721\tvalidation_1-error:0.053662\tvalidation_1-auc:0.985568\n",
      "[8]\tvalidation_0-error:0.052549\tvalidation_0-auc:0.986001\tvalidation_1-error:0.053117\tvalidation_1-auc:0.985821\n",
      "[9]\tvalidation_0-error:0.051768\tvalidation_0-auc:0.986426\tvalidation_1-error:0.05211\tvalidation_1-auc:0.986221\n",
      "[10]\tvalidation_0-error:0.050918\tvalidation_0-auc:0.986609\tvalidation_1-error:0.051442\tvalidation_1-auc:0.98637\n",
      "[11]\tvalidation_0-error:0.050676\tvalidation_0-auc:0.986869\tvalidation_1-error:0.051192\tvalidation_1-auc:0.986631\n",
      "[12]\tvalidation_0-error:0.050223\tvalidation_0-auc:0.987102\tvalidation_1-error:0.050936\tvalidation_1-auc:0.986871\n",
      "[13]\tvalidation_0-error:0.049737\tvalidation_0-auc:0.987344\tvalidation_1-error:0.050441\tvalidation_1-auc:0.987111\n",
      "[14]\tvalidation_0-error:0.049344\tvalidation_0-auc:0.987551\tvalidation_1-error:0.050102\tvalidation_1-auc:0.987329\n",
      "[15]\tvalidation_0-error:0.049009\tvalidation_0-auc:0.987713\tvalidation_1-error:0.049535\tvalidation_1-auc:0.987476\n",
      "[16]\tvalidation_0-error:0.048673\tvalidation_0-auc:0.987932\tvalidation_1-error:0.049312\tvalidation_1-auc:0.98772\n",
      "[17]\tvalidation_0-error:0.04814\tvalidation_0-auc:0.988142\tvalidation_1-error:0.048589\tvalidation_1-auc:0.98792\n",
      "[18]\tvalidation_0-error:0.04753\tvalidation_0-auc:0.988432\tvalidation_1-error:0.048167\tvalidation_1-auc:0.988227\n",
      "[19]\tvalidation_0-error:0.047218\tvalidation_0-auc:0.988685\tvalidation_1-error:0.047849\tvalidation_1-auc:0.988462\n",
      "[20]\tvalidation_0-error:0.046803\tvalidation_0-auc:0.988793\tvalidation_1-error:0.04751\tvalidation_1-auc:0.988569\n",
      "[21]\tvalidation_0-error:0.046424\tvalidation_0-auc:0.988917\tvalidation_1-error:0.047093\tvalidation_1-auc:0.988667\n",
      "[22]\tvalidation_0-error:0.046105\tvalidation_0-auc:0.989109\tvalidation_1-error:0.04677\tvalidation_1-auc:0.988859\n",
      "[23]\tvalidation_0-error:0.045708\tvalidation_0-auc:0.989283\tvalidation_1-error:0.046459\tvalidation_1-auc:0.989017\n",
      "[24]\tvalidation_0-error:0.045197\tvalidation_0-auc:0.989448\tvalidation_1-error:0.046142\tvalidation_1-auc:0.989182\n",
      "[25]\tvalidation_0-error:0.044796\tvalidation_0-auc:0.989592\tvalidation_1-error:0.045714\tvalidation_1-auc:0.989328\n",
      "[26]\tvalidation_0-error:0.04453\tvalidation_0-auc:0.989732\tvalidation_1-error:0.045358\tvalidation_1-auc:0.989473\n",
      "[27]\tvalidation_0-error:0.044193\tvalidation_0-auc:0.98985\tvalidation_1-error:0.04503\tvalidation_1-auc:0.989583\n",
      "[28]\tvalidation_0-error:0.043794\tvalidation_0-auc:0.990057\tvalidation_1-error:0.044724\tvalidation_1-auc:0.98979\n",
      "[29]\tvalidation_0-error:0.043547\tvalidation_0-auc:0.990157\tvalidation_1-error:0.044384\tvalidation_1-auc:0.989884\n",
      "[30]\tvalidation_0-error:0.043185\tvalidation_0-auc:0.990263\tvalidation_1-error:0.044256\tvalidation_1-auc:0.989976\n",
      "[31]\tvalidation_0-error:0.04303\tvalidation_0-auc:0.990368\tvalidation_1-error:0.044117\tvalidation_1-auc:0.990081\n",
      "[32]\tvalidation_0-error:0.042817\tvalidation_0-auc:0.990468\tvalidation_1-error:0.043917\tvalidation_1-auc:0.99018\n",
      "[33]\tvalidation_0-error:0.042562\tvalidation_0-auc:0.990584\tvalidation_1-error:0.043684\tvalidation_1-auc:0.990308\n",
      "[34]\tvalidation_0-error:0.042272\tvalidation_0-auc:0.990723\tvalidation_1-error:0.043517\tvalidation_1-auc:0.990426\n",
      "[35]\tvalidation_0-error:0.042092\tvalidation_0-auc:0.990832\tvalidation_1-error:0.043289\tvalidation_1-auc:0.990534\n",
      "[36]\tvalidation_0-error:0.041761\tvalidation_0-auc:0.990948\tvalidation_1-error:0.043022\tvalidation_1-auc:0.990643\n",
      "[37]\tvalidation_0-error:0.041435\tvalidation_0-auc:0.991038\tvalidation_1-error:0.042838\tvalidation_1-auc:0.990733\n",
      "[38]\tvalidation_0-error:0.041231\tvalidation_0-auc:0.991202\tvalidation_1-error:0.042466\tvalidation_1-auc:0.990891\n",
      "[39]\tvalidation_0-error:0.041031\tvalidation_0-auc:0.991279\tvalidation_1-error:0.042249\tvalidation_1-auc:0.990954\n"
     ]
    },
    {
     "data": {
      "text/plain": [
       "XGBClassifier(base_score=0.5, colsample_bylevel=0.9, colsample_bytree=0.8,\n",
       "       gamma=0, learning_rate=0.1, max_delta_step=0, max_depth=6,\n",
       "       min_child_weight=1, missing=None, n_estimators=40, nthread=4,\n",
       "       objective='binary:logistic', reg_alpha=0, reg_lambda=1,\n",
       "       scale_pos_weight=1, seed=23, silent=1, subsample=0.9)"
      ]
     },
     "execution_count": 31,
     "metadata": {},
     "output_type": "execute_result"
    }
   ],
   "source": [
    "param = {\n",
    "    'max_depth': 6,\n",
    "    'learning_rate': 0.1,\n",
    "    'silent': 1,\n",
    "    'objective': 'binary:logistic',\n",
    "    'scale_pos_weight': 0.5,\n",
    "    'n_estimators': 40,\n",
    "    \"gamma\": 0,\n",
    "    \"min_child_weight\": 1,\n",
    "    \"max_delta_step\": 0, \n",
    "    \"subsample\": 0.9, \n",
    "    \"colsample_bytree\": 0.8, \n",
    "    \"colsample_bylevel\": 0.9, \n",
    "    \"reg_alpha\": 0, \n",
    "    \"reg_lambda\": 1, \n",
    "    \"scale_pos_weight\": 1, \n",
    "    \"base_score\": 0.5,  \n",
    "    \"seed\": 23,  \n",
    "}\n",
    "\n",
    "param['nthread'] = 4\n",
    "blah_metric = ['error', 'auc']\n",
    "\n",
    "evallist = [(xgtrain, 'train'), (xgvalid, 'valid')]\n",
    "\n",
    "bst = xgb.XGBClassifier(**param)\n",
    "\n",
    "bst. train_x, train_y), (valid_x, valid_y)], \n",
    "    eval_metric=blah_metric, \n",
    "    verbose=True\n",
    ")\n",
    "\n",
    "# clf.fit(X_train, y_train, eval_set=[(X_train, y_train), (X_test, y_test)], eval_metric=’logloss’, verbose=True\n",
    "\n",
    "# bst = xgb.train(param, xgtrain, evals=evallist, num_boost_round=param['num_round'])\n",
    "\n",
    "# bst.save_model('xgb_' + str(2018) + '_v1.model')"
   ]
  },
  {
   "cell_type": "code",
   "execution_count": 54,
   "metadata": {
    "collapsed": true
   },
   "outputs": [],
   "source": [
    "# ytrue = xgvalid.get_label()\n",
    "ytrue = valid_y\n",
    "\n",
    "\n",
    "# bst = xgb.Booster({'nthread': 4}) #init model\n",
    "# bst.load_model(\"xgb_\" + str(2018) + \"_v0.model\") # load data\n",
    "\n",
    "ypred = bst.predict_proba(valid_x)[:, 1:]"
   ]
  },
  {
   "cell_type": "code",
   "execution_count": 36,
   "metadata": {
    "collapsed": true
   },
   "outputs": [],
   "source": [
    "a = bst.predict_proba(valid_x)"
   ]
  },
  {
   "cell_type": "code",
   "execution_count": 49,
   "metadata": {},
   "outputs": [
    {
     "name": "stdout",
     "output_type": "stream",
     "text": [
      "(179793, 1)\n",
      "(179793, 1)\n"
     ]
    }
   ],
   "source": [
    "print(ytrue.shape)\n",
    "print(ypred.shape)"
   ]
  },
  {
   "cell_type": "code",
   "execution_count": 55,
   "metadata": {},
   "outputs": [
    {
     "data": {
      "text/plain": [
       "{'FPR': 0.046201785969896166, 'MDR': 0.038213410659293727}"
      ]
     },
     "execution_count": 55,
     "metadata": {},
     "output_type": "execute_result"
    }
   ],
   "source": [
    "metrics(ypred, ytrue, threshold=0.5)"
   ]
  },
  {
   "cell_type": "code",
   "execution_count": 56,
   "metadata": {},
   "outputs": [
    {
     "data": {
      "text/plain": [
       "array([[ 0.98915815],\n",
       "       [ 0.04424884],\n",
       "       [ 0.01285026],\n",
       "       ..., \n",
       "       [ 0.01371142],\n",
       "       [ 0.1729524 ],\n",
       "       [ 0.05201735]], dtype=float32)"
      ]
     },
     "execution_count": 56,
     "metadata": {},
     "output_type": "execute_result"
    }
   ],
   "source": [
    "ypred"
   ]
  },
  {
   "cell_type": "code",
   "execution_count": null,
   "metadata": {
    "collapsed": true
   },
   "outputs": [],
   "source": []
  }
 ],
 "metadata": {
  "kernelspec": {
   "display_name": "Python [conda env:space2vec-py3]",
   "language": "python",
   "name": "conda-env-space2vec-py3-py"
  },
  "language_info": {
   "codemirror_mode": {
    "name": "ipython",
    "version": 3
   },
   "file_extension": ".py",
   "mimetype": "text/x-python",
   "name": "python",
   "nbconvert_exporter": "python",
   "pygments_lexer": "ipython3",
   "version": "3.6.4"
  }
 },
 "nbformat": 4,
 "nbformat_minor": 2
}
