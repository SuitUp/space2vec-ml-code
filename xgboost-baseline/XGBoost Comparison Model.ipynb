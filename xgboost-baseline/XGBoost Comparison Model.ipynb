{
 "cells": [
  {
   "cell_type": "code",
   "execution_count": 1,
   "metadata": {},
   "outputs": [],
   "source": [
    "from sklearn.model_selection import train_test_split\n",
    "\n",
    "import xgboost as xgb\n",
    "import pandas as pd\n",
    "import numpy as np\n",
    "\n",
    "import pickle\n",
    "import random\n",
    "\n",
    "pd.set_option(\"max_columns\", 999)\n",
    "\n",
    "np.random.seed(1)"
   ]
  },
  {
   "cell_type": "markdown",
   "metadata": {},
   "source": [
    "## Let's get started!\n",
    "\n",
    "First we have to load in the data, this is the feature engineered data right from the paper. We have actually taken the extra step of formatting it really nicely for Python.\n",
    "\n",
    "Make sure to change the path to where you downloaded the data!"
   ]
  },
  {
   "cell_type": "code",
   "execution_count": 2,
   "metadata": {},
   "outputs": [],
   "source": [
    "path_to_data = \"/Users/clifford-laptop/Documents/space2vec/data/engineered-data.pkl\"\n",
    "\n",
    "data = pickle.load(open(path_to_data, 'rb'))"
   ]
  },
  {
   "cell_type": "markdown",
   "metadata": {},
   "source": [
    "## Next the column types\n",
    "\n",
    "Not all of this is necessary but we wanted to make sure that we explicitly state what each column type is. That way we can be sure that we don't include columns that shouldn't be in the training data."
   ]
  },
  {
   "cell_type": "code",
   "execution_count": 3,
   "metadata": {},
   "outputs": [],
   "source": [
    "targets = [\n",
    "    \"OBJECT_TYPE\",\n",
    "]\n",
    "\n",
    "ids = [\n",
    "    \"ID\",\n",
    "]\n",
    "\n",
    "continuous = [\n",
    "    \"AMP\",\n",
    "    \"A_IMAGE\",\n",
    "    \"A_REF\",\n",
    "    \"B_IMAGE\",\n",
    "    \"B_REF\",\n",
    "    \"COLMEDS\",\n",
    "    \"DIFFSUMRN\",\n",
    "    \"ELLIPTICITY\",\n",
    "    \"FLUX_RATIO\",\n",
    "    \"GAUSS\",\n",
    "    \"GFLUX\",\n",
    "    \"L1\",\n",
    "    \"LACOSMIC\",\n",
    "    \"MAG\",\n",
    "    \"MAGDIFF\",\n",
    "    \"MAG_FROM_LIMIT\",\n",
    "    \"MAG_REF\",\n",
    "    \"MAG_REF_ERR\",\n",
    "    \"MASKFRAC\",\n",
    "    \"MIN_DISTANCE_TO_EDGE_IN_NEW\",\n",
    "    \"NN_DIST_RENORM\",\n",
    "    \"SCALE\",\n",
    "    \"SNR\",\n",
    "    \"SPREADERR_MODEL\",\n",
    "    \"SPREAD_MODEL\",\n",
    "]\n",
    "\n",
    "categorical = [\n",
    "    \"BAND\",\n",
    "    \"CCDID\",\n",
    "    \"FLAGS\",\n",
    "]\n",
    "\n",
    "ordinal = [\n",
    "    \"N2SIG3\",\n",
    "    \"N2SIG3SHIFT\",\n",
    "    \"N2SIG5\",\n",
    "    \"N2SIG5SHIFT\",\n",
    "    \"N3SIG3\",\n",
    "    \"N3SIG3SHIFT\",\n",
    "    \"N3SIG5\",\n",
    "    \"N3SIG5SHIFT\",\n",
    "    \"NUMNEGRN\",\n",
    "]\n",
    "\n",
    "booleans = [\n",
    "    \"MAGLIM\",\n",
    "]"
   ]
  },
  {
   "cell_type": "markdown",
   "metadata": {},
   "source": [
    "## One hot encode any categorical columns\n",
    "\n",
    "Here we do something called one hot encoding (https://hackernoon.com/what-is-one-hot-encoding-why-and-when-do-you-have-to-use-it-e3c6186d008f).\n",
    "\n",
    "This is to turn any categorical columns into something that a machine learning model can understand. Let's say we have a column, maybe we call it BAND, and this column might have 4 different possible values:\n",
    "\n",
    "g, i, r, or z\n",
    "\n",
    "Well we can't really shove these into our network so we hit it with the \"one hot\"! The BAND column becomes 5 different columns:\n",
    "\n",
    "BAND_g, BAND_i, BAND_r, BAND_z, and BAND_nan\n",
    "\n",
    "Now, instead of a letter value; we have a binary representation with a 1 in it's corresponding column and a zero in the rest.\n",
    "\n",
    "The function is a bit interesting but it does exactly what we need!"
   ]
  },
  {
   "cell_type": "code",
   "execution_count": 4,
   "metadata": {},
   "outputs": [],
   "source": [
    "data = pd.get_dummies(\n",
    "    data, \n",
    "    prefix = categorical, \n",
    "    prefix_sep = '_',\n",
    "    dummy_na = True, \n",
    "    columns = categorical, \n",
    "    sparse = False, \n",
    "    drop_first = False\n",
    ")"
   ]
  },
  {
   "cell_type": "markdown",
   "metadata": {},
   "source": [
    "## Split the inputs from the targets\n",
    "\n",
    "This is super important!\n",
    "\n",
    "We have to make sure we physically seperate the targets (aka labels) from our model input. This is to give us a piece of mind as we train.\n",
    "\n",
    "Obviously, the model should never train on our targets... That's like giving a student the exam answer sheet to study before the exam!"
   ]
  },
  {
   "cell_type": "code",
   "execution_count": 5,
   "metadata": {},
   "outputs": [],
   "source": [
    "target = data[targets]\n",
    "inputs = data.drop(columns = ids + targets)"
   ]
  },
  {
   "cell_type": "markdown",
   "metadata": {},
   "source": [
    "## Shuffle and split the data\n",
    "\n",
    "Now we split the data again, this time into a training set and a validation set.\n",
    "\n",
    "This is comparable to having a bunch of practice questions before a test (the training set) and quiz questions (the validation set).\n",
    "\n",
    "**It's important to note that the model should never learn on the validation set!**\n",
    "\n",
    "We also shuffle the data to make sure we remove any possible patterns that could be happening within the data (not very likely to happen in this dataset but it doesn't hurt).\n",
    "\n",
    "Another **really** important point here is \"stratification\". That sounds fancy but it basically means that when we split the data, the distribution of the populations should be the same in the training and validation set as it was originally... That didn't help did it?\n",
    "\n",
    "Let's say that in the total dataset we have 50.5% of the population as supernova and the other 49.5% of the population being not a supernova. When we split the data into two subset, in a stratified way, both subsets should keep a very similar ratio of supernova to not-supernova (50.5% to 49.5%).\n",
    "\n",
    "This is getting way too long... Lastly I'll point out the **test_size = 0.2**. This simply means that 20% of the data is put into a validation set (leaving the other 80% as training data)."
   ]
  },
  {
   "cell_type": "code",
   "execution_count": 9,
   "metadata": {},
   "outputs": [],
   "source": [
    "x_train, x_valid, y_train, y_valid = train_test_split(\n",
    "    inputs, \n",
    "    target, \n",
    "    test_size = 0.2, \n",
    "    random_state = 42,\n",
    "    stratify = target.as_matrix()\n",
    ")"
   ]
  },
  {
   "cell_type": "markdown",
   "metadata": {},
   "source": [
    "## Parameters!\n",
    "\n",
    "Alright, we won't get too into the specifics here but you can definitely check out the documentation (http://xgboost.readthedocs.io/en/latest/python/python_api.html#xgboost.XGBClassifier).\n",
    "\n",
    "We just toyed around with the parameters to see what seemed to work the best.\n",
    "\n",
    "Once we get to the Convolutional Neural Network (CNN), the model we will more than likely use in the end, we will automate this parameter search.\n",
    "\n",
    "**The joys of this whole notebook thing is that you can run all of this! Try changing them and see what happens!**"
   ]
  },
  {
   "cell_type": "code",
   "execution_count": 26,
   "metadata": {},
   "outputs": [],
   "source": [
    "params = {\n",
    "    'max_depth': 6,\n",
    "    'learning_rate': 0.1,\n",
    "    'silent': 1,\n",
    "    'objective': 'binary:logistic',\n",
    "    'scale_pos_weight': 0.5,\n",
    "    'n_estimators': 40,\n",
    "    \"gamma\": 0,\n",
    "    \"min_child_weight\": 1,\n",
    "    \"max_delta_step\": 0, \n",
    "    \"subsample\": 0.9, \n",
    "    \"colsample_bytree\": 0.8, \n",
    "    \"colsample_bylevel\": 0.9, \n",
    "    \"reg_alpha\": 0, \n",
    "    \"reg_lambda\": 1, \n",
    "    \"scale_pos_weight\": 1, \n",
    "    \"base_score\": 0.5,  \n",
    "    \"seed\": 23, \n",
    "    \"nthread\": 4\n",
    "}"
   ]
  },
  {
   "cell_type": "markdown",
   "metadata": {},
   "source": [
    "## *Rocky training montage*\n",
    "\n",
    "Now for the part where Rocky runs through the streets training for the big fight!\n",
    "\n",
    "Ahaha, oh the joys of modern programming! All we need to do is define the XGBClassifier and `.fit()`!\n",
    "\n",
    "As long as we pass in the data and the metrics that we want to define then we are good to go."
   ]
  },
  {
   "cell_type": "code",
   "execution_count": 27,
   "metadata": {},
   "outputs": [
    {
     "name": "stderr",
     "output_type": "stream",
     "text": [
      "/Users/clifford-laptop/anaconda2/envs/space2vec/lib/python3.6/site-packages/sklearn/preprocessing/label.py:95: DataConversionWarning: A column-vector y was passed when a 1d array was expected. Please change the shape of y to (n_samples, ), for example using ravel().\n",
      "  y = column_or_1d(y, warn=True)\n",
      "/Users/clifford-laptop/anaconda2/envs/space2vec/lib/python3.6/site-packages/sklearn/preprocessing/label.py:128: DataConversionWarning: A column-vector y was passed when a 1d array was expected. Please change the shape of y to (n_samples, ), for example using ravel().\n",
      "  y = column_or_1d(y, warn=True)\n"
     ]
    },
    {
     "name": "stdout",
     "output_type": "stream",
     "text": [
      "[0]\tvalidation_0-auc:0.967291\tvalidation_1-auc:0.966996\n",
      "[1]\tvalidation_0-auc:0.974637\tvalidation_1-auc:0.974235\n",
      "[2]\tvalidation_0-auc:0.982206\tvalidation_1-auc:0.981863\n",
      "[3]\tvalidation_0-auc:0.982742\tvalidation_1-auc:0.982427\n",
      "[4]\tvalidation_0-auc:0.98447\tvalidation_1-auc:0.984314\n",
      "[5]\tvalidation_0-auc:0.985039\tvalidation_1-auc:0.984842\n",
      "[6]\tvalidation_0-auc:0.985353\tvalidation_1-auc:0.985177\n",
      "[7]\tvalidation_0-auc:0.985621\tvalidation_1-auc:0.985435\n",
      "[8]\tvalidation_0-auc:0.985995\tvalidation_1-auc:0.985823\n",
      "[9]\tvalidation_0-auc:0.986418\tvalidation_1-auc:0.986239\n",
      "[10]\tvalidation_0-auc:0.986688\tvalidation_1-auc:0.986519\n",
      "[11]\tvalidation_0-auc:0.986884\tvalidation_1-auc:0.986712\n",
      "[12]\tvalidation_0-auc:0.987164\tvalidation_1-auc:0.986975\n",
      "[13]\tvalidation_0-auc:0.987417\tvalidation_1-auc:0.987218\n",
      "[14]\tvalidation_0-auc:0.987586\tvalidation_1-auc:0.987418\n",
      "[15]\tvalidation_0-auc:0.987908\tvalidation_1-auc:0.987705\n",
      "[16]\tvalidation_0-auc:0.988169\tvalidation_1-auc:0.987992\n",
      "[17]\tvalidation_0-auc:0.988351\tvalidation_1-auc:0.988176\n",
      "[18]\tvalidation_0-auc:0.988474\tvalidation_1-auc:0.988304\n",
      "[19]\tvalidation_0-auc:0.988711\tvalidation_1-auc:0.988529\n",
      "[20]\tvalidation_0-auc:0.988923\tvalidation_1-auc:0.988739\n",
      "[21]\tvalidation_0-auc:0.989098\tvalidation_1-auc:0.988922\n",
      "[22]\tvalidation_0-auc:0.989229\tvalidation_1-auc:0.989033\n",
      "[23]\tvalidation_0-auc:0.989479\tvalidation_1-auc:0.989271\n",
      "[24]\tvalidation_0-auc:0.989585\tvalidation_1-auc:0.989385\n",
      "[25]\tvalidation_0-auc:0.989726\tvalidation_1-auc:0.989511\n",
      "[26]\tvalidation_0-auc:0.98986\tvalidation_1-auc:0.98965\n",
      "[27]\tvalidation_0-auc:0.990075\tvalidation_1-auc:0.989816\n",
      "[28]\tvalidation_0-auc:0.990221\tvalidation_1-auc:0.989966\n",
      "[29]\tvalidation_0-auc:0.990338\tvalidation_1-auc:0.990079\n",
      "[30]\tvalidation_0-auc:0.990426\tvalidation_1-auc:0.990162\n",
      "[31]\tvalidation_0-auc:0.990536\tvalidation_1-auc:0.990268\n",
      "[32]\tvalidation_0-auc:0.990654\tvalidation_1-auc:0.990391\n",
      "[33]\tvalidation_0-auc:0.990745\tvalidation_1-auc:0.990473\n",
      "[34]\tvalidation_0-auc:0.990834\tvalidation_1-auc:0.99055\n",
      "[35]\tvalidation_0-auc:0.990964\tvalidation_1-auc:0.990658\n",
      "[36]\tvalidation_0-auc:0.99106\tvalidation_1-auc:0.990747\n",
      "[37]\tvalidation_0-auc:0.991139\tvalidation_1-auc:0.990819\n",
      "[38]\tvalidation_0-auc:0.991254\tvalidation_1-auc:0.99093\n",
      "[39]\tvalidation_0-auc:0.991371\tvalidation_1-auc:0.991034\n"
     ]
    },
    {
     "data": {
      "text/plain": [
       "XGBClassifier(base_score=0.5, booster='gbtree', colsample_bylevel=0.9,\n",
       "       colsample_bytree=0.8, gamma=0, learning_rate=0.1, max_delta_step=0,\n",
       "       max_depth=6, min_child_weight=1, missing=None, n_estimators=40,\n",
       "       n_jobs=1, nthread=4, objective='binary:logistic', random_state=0,\n",
       "       reg_alpha=0, reg_lambda=1, scale_pos_weight=1, seed=23, silent=1,\n",
       "       subsample=0.9)"
      ]
     },
     "execution_count": 27,
     "metadata": {},
     "output_type": "execute_result"
    }
   ],
   "source": [
    "bst = xgb.XGBClassifier(**params)\n",
    "\n",
    "bst.fit(\n",
    "    x_train, \n",
    "    y_train, \n",
    "    eval_set = [(x_train, y_train), (x_valid, y_valid)], \n",
    "    eval_metric = ['auc'], \n",
    "    verbose = True\n",
    ")"
   ]
  },
  {
   "cell_type": "markdown",
   "metadata": {},
   "source": [
    "## Define the rules of the ring\n",
    "\n",
    "The rules of the big finale were described within the paper, these are the Missed Detection Rate (MDR) and the False Positive Rate (FPR). We won't dive in here as they are mentioned in depth in our blog post, but the following is the coded version of the metrics."
   ]
  },
  {
   "cell_type": "code",
   "execution_count": 31,
   "metadata": {},
   "outputs": [],
   "source": [
    "def metrics(outputs, labels, threshold=0.5):\n",
    "    predictions = outputs >= (1 - threshold)\n",
    "    true_positive_indices = (predictions == 0) * (labels == 0)\n",
    "    false_positive_indices = (predictions == 0) * (labels == 1)\n",
    "    true_negative_indices = (predictions == 1) * (labels == 1)\n",
    "    false_negative_indices = (predictions == 1) * (labels == 0)\n",
    "\n",
    "    true_positive_count = true_positive_indices.sum()\n",
    "    false_positive_count = false_positive_indices.sum()\n",
    "    true_negative_count = true_negative_indices.sum()\n",
    "    false_negative_count = false_negative_indices.sum()\n",
    "   \n",
    "    return {\n",
    "        # Missed detection rate\n",
    "        'MDR': false_negative_count / (true_positive_count + false_negative_count),\n",
    "        # True positive rate\n",
    "        'FPR': false_positive_count / (true_negative_count + false_positive_count)\n",
    "    }"
   ]
  },
  {
   "cell_type": "markdown",
   "metadata": {},
   "source": [
    "## Hiring the referee\n",
    "\n",
    "Great, now we have the rules for the big fight. But we also need someone (or something... or just a function) to take action on the rules.\n",
    "\n",
    "This is just a function that will run MDR and FPR on all 3 thresholds (0.4, 0.5, 0.6) and a few extras explained below:\n",
    "\n",
    "**FALSE_POSITIVE_RATE:** Is the sum of the FPR from all three thresholds, this helps us see how the models compare on a large scale.\n",
    "\n",
    "**MISSED_DETECTION_RATE:** Is the sum of the MDR from all three thresholds, this helps us see how the models compare on a large scale.\n",
    "\n",
    "**PIPPIN_METRIC:** Named after team member Pippin Lee, this is just **FALSE_POSITIVE_RATE** and **MISSED_DETECTION_RATE** summed to give us an even large scale of how the models compare.\n",
    "\n",
    "**ACCURACY:** Simply the percentage of guesses that we got right."
   ]
  },
  {
   "cell_type": "code",
   "execution_count": 30,
   "metadata": {},
   "outputs": [],
   "source": [
    "def get_metrics(outputs, labels, with_acc=True):\n",
    "    \n",
    "    all_metrics = {}\n",
    "    \n",
    "    # FPR and MDR 0.4\n",
    "    temp = metrics(outputs, labels, threshold=0.4)\n",
    "    all_metrics[\"FALSE_POSITIVE_RATE_4\"] = temp[\"FPR\"]\n",
    "    all_metrics[\"MISSED_DETECTION_RATE_4\"] = temp[\"MDR\"]\n",
    "    \n",
    "    # FPR and MDR 0.5\n",
    "    temp = metrics(outputs, labels, threshold=0.5)\n",
    "    all_metrics[\"FALSE_POSITIVE_RATE_5\"] = temp[\"FPR\"]\n",
    "    all_metrics[\"MISSED_DETECTION_RATE_5\"] = temp[\"MDR\"]\n",
    "    \n",
    "    # FPR and MDR 0.6\n",
    "    temp = metrics(outputs, labels, threshold=0.6)\n",
    "    all_metrics[\"FALSE_POSITIVE_RATE_6\"] = temp[\"FPR\"]\n",
    "    all_metrics[\"MISSED_DETECTION_RATE_6\"] = temp[\"MDR\"]\n",
    "    \n",
    "    # Summed FPR and MDR\n",
    "    all_metrics[\"FALSE_POSITIVE_RATE\"] = all_metrics[\"FALSE_POSITIVE_RATE_4\"] + all_metrics[\"FALSE_POSITIVE_RATE_5\"] + all_metrics[\"FALSE_POSITIVE_RATE_6\"] \n",
    "    all_metrics[\"MISSED_DETECTION_RATE\"] = all_metrics[\"MISSED_DETECTION_RATE_4\"] + all_metrics[\"MISSED_DETECTION_RATE_5\"] + all_metrics[\"MISSED_DETECTION_RATE_6\"]\n",
    "    \n",
    "    # The true sum\n",
    "    all_metrics[\"PIPPIN_METRIC\"] = all_metrics[\"FALSE_POSITIVE_RATE\"] + all_metrics[\"MISSED_DETECTION_RATE\"]\n",
    "    \n",
    "    # Accuracy\n",
    "    if with_acc:\n",
    "        predictions = np.around(outputs).astype(int)\n",
    "        all_metrics[\"ACCURACY\"] = (predictions == labels).sum() / len(labels)\n",
    "    \n",
    "    return all_metrics"
   ]
  },
  {
   "cell_type": "markdown",
   "metadata": {},
   "source": [
    "## The big fight!\n",
    "\n",
    "Our model has trained up in the modern day version of a classic cinematic training montage!\n",
    "\n",
    "We can finally give it the final challange... this challenge just happens to be feeding it more data rather than fighting his own inner demons in the manifestation of a boxer."
   ]
  },
  {
   "cell_type": "code",
   "execution_count": 36,
   "metadata": {},
   "outputs": [],
   "source": [
    "y_predictions = bst.predict_proba(x_valid)[:, 1:]"
   ]
  },
  {
   "cell_type": "markdown",
   "metadata": {},
   "source": [
    "## To the judges!\n",
    "\n",
    "Our model has fought well and forced the match to decision. Only the judges can give us the final results!\n",
    "\n",
    "You can see that we use the metric functions defined above, passing in what the model guessed and what the actual results **should be**. We then do the math and see how our fighter did.\n",
    "\n",
    "We won't go in depth into the comparison here since we go into it in-depth in the article. \n",
    "\n",
    "(Teaser: it lost but actually did fairly well for how simple it is!)"
   ]
  },
  {
   "cell_type": "code",
   "execution_count": null,
   "metadata": {},
   "outputs": [],
   "source": [
    "all_metrics = get_metrics(y_predictions, y_valid)\n",
    "\n",
    "print(\"FPR (0.4): \" + str(all_metrics[\"FALSE_POSITIVE_RATE_4\"][0]))\n",
    "print(\"FPR (0.5): \" + str(all_metrics[\"FALSE_POSITIVE_RATE_5\"][0]))\n",
    "print(\"FPR (0.6): \" + str(all_metrics[\"FALSE_POSITIVE_RATE_6\"][0]))\n",
    "print(\"\")\n",
    "print(\"MDR (0.4): \" + str(all_metrics[\"MISSED_DETECTION_RATE_4\"][0]))\n",
    "print(\"MDR (0.5): \" + str(all_metrics[\"MISSED_DETECTION_RATE_5\"][0]))\n",
    "print(\"MDR (0.6): \" + str(all_metrics[\"MISSED_DETECTION_RATE_6\"][0]))\n",
    "print(\"\")\n",
    "print(\"SUMMED FPR: \" + str(all_metrics[\"FALSE_POSITIVE_RATE\"][0]))\n",
    "print(\"SUMMED MDR: \" + str(all_metrics[\"MISSED_DETECTION_RATE\"][0]))\n",
    "print(\"TOTAL SUM: \" + str(all_metrics[\"PIPPIN_METRIC\"][0]))\n",
    "print(\"\")\n",
    "print(\"ACCURACY: \" + str(all_metrics[\"ACCURACY\"][0]))"
   ]
  },
  {
   "cell_type": "code",
   "execution_count": null,
   "metadata": {},
   "outputs": [],
   "source": []
  }
 ],
 "metadata": {
  "kernelspec": {
   "display_name": "Python [conda env:space2vec]",
   "language": "python",
   "name": "conda-env-space2vec-py"
  },
  "language_info": {
   "codemirror_mode": {
    "name": "ipython",
    "version": 3
   },
   "file_extension": ".py",
   "mimetype": "text/x-python",
   "name": "python",
   "nbconvert_exporter": "python",
   "pygments_lexer": "ipython3",
   "version": "3.6.4"
  }
 },
 "nbformat": 4,
 "nbformat_minor": 2
}
